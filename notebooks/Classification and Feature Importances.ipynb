{
 "cells": [
  {
   "cell_type": "code",
   "execution_count": 1,
   "metadata": {},
   "outputs": [],
   "source": [
    "import pandas as pd\n",
    "from sklearn.model_selection import train_test_split\n",
    "from sklearn.discriminant_analysis import LinearDiscriminantAnalysis\n",
    "\n",
    "from sklearn.compose import ColumnTransformer\n",
    "from sklearn.pipeline import Pipeline\n",
    "from sklearn.preprocessing import StandardScaler, OneHotEncoder\n",
    "from sklearn.base import TransformerMixin\n",
    "from sklearn import metrics\n",
    "from sklearn import model_selection\n",
    "from sklearn.ensemble import AdaBoostClassifier\n",
    "from sklearn.linear_model import RidgeClassifier\n",
    "from sklearn.ensemble import RandomForestClassifier"
   ]
  },
  {
   "cell_type": "code",
   "execution_count": 2,
   "metadata": {},
   "outputs": [],
   "source": [
    "data_path = '../data/uci_data.xls'"
   ]
  },
  {
   "cell_type": "code",
   "execution_count": 3,
   "metadata": {},
   "outputs": [],
   "source": [
    "df = pd.read_excel(data_path, header=0, index_col=0, skiprows=1)\n",
    "df = df.rename(columns={'PAY_0': 'PAY_1'})"
   ]
  },
  {
   "cell_type": "code",
   "execution_count": 4,
   "metadata": {},
   "outputs": [],
   "source": [
    "# I set all invalid values to 'other'\n",
    "df.loc[~(df['EDUCATION'].isin([1, 2, 3, 4])), 'EDUCATION'] = 4\n",
    "df.loc[~(df['MARRIAGE'].isin([1, 2, 3])), 'MARRIAGE'] = 3\n",
    "\n",
    "# PAY_* fuera de rango\n",
    "paux = ~(df['PAY_1'].isin([-1,0,1,2,3,4,5,6,7,8,9]))\n",
    "for i in range(2, 7):\n",
    "    paux = paux | ~(df['PAY_' + str(i)].isin([-1,0,1,2,3,4,5,6,7,8,9]))\n",
    "    \n",
    "df = df[~paux]"
   ]
  },
  {
   "cell_type": "code",
   "execution_count": 5,
   "metadata": {},
   "outputs": [],
   "source": [
    "train, test = train_test_split(df, test_size=0.2, random_state=42)\n",
    "X_train = train.drop(columns=('default payment next month'))\n",
    "y_train = train[['default payment next month']]\n",
    "X_test = test.drop(columns=('default payment next month'))\n",
    "y_test = test[['default payment next month']]"
   ]
  },
  {
   "cell_type": "code",
   "execution_count": 6,
   "metadata": {},
   "outputs": [],
   "source": [
    "numeric_features = [\"LIMIT_BAL\", \"AGE\", \n",
    "                    \"BILL_AMT1\", \"BILL_AMT2\", \"BILL_AMT3\", \"BILL_AMT4\", \"BILL_AMT5\", \"BILL_AMT6\", \n",
    "                    \"PAY_AMT1\", \"PAY_AMT2\", \"PAY_AMT3\", \"PAY_AMT4\", \"PAY_AMT5\", \"PAY_AMT6\"]\n",
    "\n",
    "categorical_features = [\"SEX\", \"EDUCATION\", \"MARRIAGE\", \"PAY_1\", \"PAY_2\", \"PAY_3\", \"PAY_4\", \"PAY_5\", \"PAY_6\"]"
   ]
  },
  {
   "cell_type": "markdown",
   "metadata": {},
   "source": [
    "## Modelo 1: LDA"
   ]
  },
  {
   "cell_type": "code",
   "execution_count": 54,
   "metadata": {},
   "outputs": [],
   "source": [
    "numeric_transformer = Pipeline(steps=[\n",
    "    ('scaler', StandardScaler())])\n",
    "\n",
    "categorical_transformer = OneHotEncoder(handle_unknown='ignore', sparse=False)\n",
    "\n",
    "preprocessor = ColumnTransformer(\n",
    "    transformers=[\n",
    "        ('num', numeric_transformer, numeric_features),\n",
    "        ('cat', categorical_transformer, categorical_features)])\n",
    "\n",
    "clf = Pipeline(steps=[('preprocessor', preprocessor),\n",
    "                      ('classifier', LinearDiscriminantAnalysis(solver='svd'))])"
   ]
  },
  {
   "cell_type": "code",
   "execution_count": 55,
   "metadata": {},
   "outputs": [
    {
     "name": "stdout",
     "output_type": "stream",
     "text": [
      "CPU times: user 518 ms, sys: 33 ms, total: 551 ms\n",
      "Wall time: 275 ms\n"
     ]
    },
    {
     "data": {
      "text/plain": [
       "Pipeline(steps=[('preprocessor',\n",
       "                 ColumnTransformer(transformers=[('num',\n",
       "                                                  Pipeline(steps=[('scaler',\n",
       "                                                                   StandardScaler())]),\n",
       "                                                  ['LIMIT_BAL', 'AGE',\n",
       "                                                   'BILL_AMT1', 'BILL_AMT2',\n",
       "                                                   'BILL_AMT3', 'BILL_AMT4',\n",
       "                                                   'BILL_AMT5', 'BILL_AMT6',\n",
       "                                                   'PAY_AMT1', 'PAY_AMT2',\n",
       "                                                   'PAY_AMT3', 'PAY_AMT4',\n",
       "                                                   'PAY_AMT5', 'PAY_AMT6']),\n",
       "                                                 ('cat',\n",
       "                                                  OneHotEncoder(handle_unknown='ignore',\n",
       "                                                                sparse=False),\n",
       "                                                  ['SEX', 'EDUCATION',\n",
       "                                                   'MARRIAGE', 'PAY_1', 'PAY_2',\n",
       "                                                   'PAY_3', 'PAY_4', 'PAY_5',\n",
       "                                                   'PAY_6'])])),\n",
       "                ('classifier', LinearDiscriminantAnalysis())])"
      ]
     },
     "execution_count": 55,
     "metadata": {},
     "output_type": "execute_result"
    }
   ],
   "source": [
    "%%time\n",
    "clf.fit(X_train, y_train.values.ravel());"
   ]
  },
  {
   "cell_type": "code",
   "execution_count": 58,
   "metadata": {},
   "outputs": [
    {
     "name": "stdout",
     "output_type": "stream",
     "text": [
      "              precision    recall  f1-score   support\n",
      "\n",
      "        paid       0.85      0.94      0.89     14480\n",
      "     default       0.67      0.44      0.53      4271\n",
      "\n",
      "    accuracy                           0.82     18751\n",
      "   macro avg       0.76      0.69      0.71     18751\n",
      "weighted avg       0.81      0.82      0.81     18751\n",
      "\n"
     ]
    }
   ],
   "source": [
    "print(metrics.classification_report(y_train, clf.predict(X_train), target_names=['paid', 'default']))"
   ]
  },
  {
   "cell_type": "markdown",
   "metadata": {},
   "source": [
    "### Hyperparameter Search"
   ]
  },
  {
   "cell_type": "code",
   "execution_count": 89,
   "metadata": {},
   "outputs": [],
   "source": [
    "param_grid = {\n",
    "    'classifier__tol': [1.0e-5, 1.0e-4, 1.0e-3, 1.03-2]\n",
    "}\n",
    "\n",
    "model_lr = model_selection.GridSearchCV(clf, param_grid=param_grid, cv=5)"
   ]
  },
  {
   "cell_type": "code",
   "execution_count": 90,
   "metadata": {},
   "outputs": [
    {
     "name": "stdout",
     "output_type": "stream",
     "text": [
      "CPU times: user 2.85 s, sys: 2.01 s, total: 4.86 s\n",
      "Wall time: 1.28 s\n"
     ]
    }
   ],
   "source": [
    "%%time\n",
    "model_lr = model_lr.fit(X_train, y_train.values.ravel())"
   ]
  },
  {
   "cell_type": "code",
   "execution_count": 91,
   "metadata": {},
   "outputs": [
    {
     "data": {
      "text/plain": [
       "{'classifier__tol': 1e-05}"
      ]
     },
     "execution_count": 91,
     "metadata": {},
     "output_type": "execute_result"
    }
   ],
   "source": [
    "model_lr.best_params_"
   ]
  },
  {
   "cell_type": "code",
   "execution_count": 92,
   "metadata": {},
   "outputs": [
    {
     "name": "stdout",
     "output_type": "stream",
     "text": [
      "              precision    recall  f1-score   support\n",
      "\n",
      "        paid       0.84      0.95      0.89     14480\n",
      "     default       0.68      0.36      0.48      4271\n",
      "\n",
      "    accuracy                           0.82     18751\n",
      "   macro avg       0.76      0.66      0.68     18751\n",
      "weighted avg       0.80      0.82      0.79     18751\n",
      "\n"
     ]
    }
   ],
   "source": [
    "print(metrics.classification_report(y_train, model_lr.predict(X_train), target_names=['paid', 'default']))"
   ]
  },
  {
   "cell_type": "code",
   "execution_count": 93,
   "metadata": {},
   "outputs": [
    {
     "name": "stdout",
     "output_type": "stream",
     "text": [
      "              precision    recall  f1-score   support\n",
      "\n",
      "        paid       0.83      0.95      0.89      3574\n",
      "     default       0.71      0.36      0.48      1114\n",
      "\n",
      "    accuracy                           0.81      4688\n",
      "   macro avg       0.77      0.66      0.68      4688\n",
      "weighted avg       0.80      0.81      0.79      4688\n",
      "\n"
     ]
    }
   ],
   "source": [
    "print(metrics.classification_report(y_test, model_lr.predict(X_test), target_names=['paid', 'default']))"
   ]
  },
  {
   "cell_type": "code",
   "execution_count": 94,
   "metadata": {},
   "outputs": [],
   "source": [
    "from sklearn.feature_selection import RFE"
   ]
  },
  {
   "cell_type": "code",
   "execution_count": 116,
   "metadata": {},
   "outputs": [],
   "source": [
    "selector = RFE(LinearDiscriminantAnalysis(solver='svd'), n_features_to_select=1, step=1)\n",
    "selector = selector.fit(X_train, y_train.values.ravel())"
   ]
  },
  {
   "cell_type": "code",
   "execution_count": 124,
   "metadata": {},
   "outputs": [
    {
     "name": "stdout",
     "output_type": "stream",
     "text": [
      "Column: LIMIT_BAL, Selected False, Rank: 16.000\n",
      "Column: SEX, Selected False, Rank: 7.000\n",
      "Column: EDUCATION, Selected False, Rank: 9.000\n",
      "Column: MARRIAGE, Selected False, Rank: 4.000\n",
      "Column: AGE, Selected False, Rank: 10.000\n",
      "Column: PAY_1, Selected True, Rank: 1.000\n",
      "Column: PAY_2, Selected False, Rank: 5.000\n",
      "Column: PAY_3, Selected False, Rank: 3.000\n",
      "Column: PAY_4, Selected False, Rank: 8.000\n",
      "Column: PAY_5, Selected False, Rank: 2.000\n",
      "Column: PAY_6, Selected False, Rank: 6.000\n",
      "Column: BILL_AMT1, Selected False, Rank: 12.000\n",
      "Column: BILL_AMT2, Selected False, Rank: 14.000\n",
      "Column: BILL_AMT3, Selected False, Rank: 20.000\n",
      "Column: BILL_AMT4, Selected False, Rank: 18.000\n",
      "Column: BILL_AMT5, Selected False, Rank: 17.000\n",
      "Column: BILL_AMT6, Selected False, Rank: 22.000\n",
      "Column: PAY_AMT1, Selected False, Rank: 11.000\n",
      "Column: PAY_AMT2, Selected False, Rank: 13.000\n",
      "Column: PAY_AMT3, Selected False, Rank: 23.000\n",
      "Column: PAY_AMT4, Selected False, Rank: 19.000\n",
      "Column: PAY_AMT5, Selected False, Rank: 21.000\n",
      "Column: PAY_AMT6, Selected False, Rank: 15.000\n"
     ]
    }
   ],
   "source": [
    "for i,n in zip(range(X_train.shape[1]), X_train.columns):\n",
    "    print('Column: %s, Selected %s, Rank: %.3f' % (n, selector.support_[i], selector.ranking_[i]))"
   ]
  },
  {
   "cell_type": "markdown",
   "metadata": {},
   "source": [
    "## Modelo 2: AdaBoost"
   ]
  },
  {
   "cell_type": "code",
   "execution_count": 130,
   "metadata": {},
   "outputs": [],
   "source": [
    "numeric_transformer = Pipeline(steps=[\n",
    "    ('scaler', StandardScaler())])\n",
    "\n",
    "categorical_transformer = OneHotEncoder(handle_unknown='ignore', sparse=False)\n",
    "\n",
    "preprocessor = ColumnTransformer(\n",
    "    transformers=[\n",
    "        ('num', numeric_transformer, numeric_features),\n",
    "        ('cat', categorical_transformer, categorical_features)])\n",
    "\n",
    "clf = Pipeline(steps=[('preprocessor', preprocessor),\n",
    "                      ('classifier', AdaBoostClassifier())])\n",
    "\n",
    "clf.fit(X_train, y_train.values.ravel());"
   ]
  },
  {
   "cell_type": "code",
   "execution_count": 131,
   "metadata": {},
   "outputs": [
    {
     "name": "stdout",
     "output_type": "stream",
     "text": [
      "              precision    recall  f1-score   support\n",
      "\n",
      "        paid       0.84      0.95      0.89     14480\n",
      "     default       0.69      0.40      0.50      4271\n",
      "\n",
      "    accuracy                           0.82     18751\n",
      "   macro avg       0.76      0.67      0.70     18751\n",
      "weighted avg       0.81      0.82      0.80     18751\n",
      "\n"
     ]
    }
   ],
   "source": [
    "print(metrics.classification_report(y_train, clf.predict(X_train), target_names=['paid', 'default']))"
   ]
  },
  {
   "cell_type": "code",
   "execution_count": 132,
   "metadata": {},
   "outputs": [
    {
     "name": "stdout",
     "output_type": "stream",
     "text": [
      "              precision    recall  f1-score   support\n",
      "\n",
      "        paid       0.83      0.95      0.89      3574\n",
      "     default       0.70      0.39      0.50      1114\n",
      "\n",
      "    accuracy                           0.82      4688\n",
      "   macro avg       0.77      0.67      0.69      4688\n",
      "weighted avg       0.80      0.82      0.79      4688\n",
      "\n"
     ]
    }
   ],
   "source": [
    "print(metrics.classification_report(y_test, clf.predict(X_test), target_names=['paid', 'default']))"
   ]
  },
  {
   "cell_type": "markdown",
   "metadata": {},
   "source": [
    "### Hyperparameter Search"
   ]
  },
  {
   "cell_type": "code",
   "execution_count": 133,
   "metadata": {},
   "outputs": [],
   "source": [
    "param_grid = {\n",
    "    'classifier__n_estimators': [30, 40, 50, 60, 70, 80],\n",
    "    'classifier__learning_rate': [0.3, 0.6, 1, 1.3, 1.6]\n",
    "}\n",
    "\n",
    "model_lr = model_selection.GridSearchCV(clf, param_grid=param_grid, cv=5)"
   ]
  },
  {
   "cell_type": "code",
   "execution_count": 134,
   "metadata": {},
   "outputs": [
    {
     "name": "stdout",
     "output_type": "stream",
     "text": [
      "CPU times: user 4min 3s, sys: 95 ms, total: 4min 3s\n",
      "Wall time: 4min 3s\n"
     ]
    }
   ],
   "source": [
    "%%time\n",
    "model_lr = model_lr.fit(X_train, y_train.values.ravel())"
   ]
  },
  {
   "cell_type": "code",
   "execution_count": 135,
   "metadata": {},
   "outputs": [
    {
     "data": {
      "text/plain": [
       "{'classifier__learning_rate': 1.3, 'classifier__n_estimators': 60}"
      ]
     },
     "execution_count": 135,
     "metadata": {},
     "output_type": "execute_result"
    }
   ],
   "source": [
    "model_lr.best_params_"
   ]
  },
  {
   "cell_type": "code",
   "execution_count": 136,
   "metadata": {},
   "outputs": [
    {
     "name": "stdout",
     "output_type": "stream",
     "text": [
      "              precision    recall  f1-score   support\n",
      "\n",
      "        paid       0.85      0.94      0.89     14480\n",
      "     default       0.67      0.42      0.51      4271\n",
      "\n",
      "    accuracy                           0.82     18751\n",
      "   macro avg       0.76      0.68      0.70     18751\n",
      "weighted avg       0.81      0.82      0.80     18751\n",
      "\n"
     ]
    }
   ],
   "source": [
    "print(metrics.classification_report(y_train, model_lr.predict(X_train), target_names=['paid', 'default']))"
   ]
  },
  {
   "cell_type": "code",
   "execution_count": 137,
   "metadata": {},
   "outputs": [
    {
     "name": "stdout",
     "output_type": "stream",
     "text": [
      "              precision    recall  f1-score   support\n",
      "\n",
      "        paid       0.84      0.95      0.89      3574\n",
      "     default       0.71      0.40      0.51      1114\n",
      "\n",
      "    accuracy                           0.82      4688\n",
      "   macro avg       0.77      0.68      0.70      4688\n",
      "weighted avg       0.81      0.82      0.80      4688\n",
      "\n"
     ]
    }
   ],
   "source": [
    "print(metrics.classification_report(y_test, model_lr.predict(X_test), target_names=['paid', 'default']))"
   ]
  },
  {
   "cell_type": "code",
   "execution_count": 141,
   "metadata": {},
   "outputs": [],
   "source": [
    "selector = RFE(AdaBoostClassifier(), n_features_to_select=1, step=1)\n",
    "selector = selector.fit(X_train, y_train.values.ravel())"
   ]
  },
  {
   "cell_type": "code",
   "execution_count": 142,
   "metadata": {},
   "outputs": [
    {
     "name": "stdout",
     "output_type": "stream",
     "text": [
      "Column: LIMIT_BAL, Selected False, Rank: 5.000\n",
      "Column: SEX, Selected False, Rank: 22.000\n",
      "Column: EDUCATION, Selected False, Rank: 20.000\n",
      "Column: MARRIAGE, Selected False, Rank: 18.000\n",
      "Column: AGE, Selected False, Rank: 21.000\n",
      "Column: PAY_1, Selected False, Rank: 3.000\n",
      "Column: PAY_2, Selected False, Rank: 11.000\n",
      "Column: PAY_3, Selected False, Rank: 23.000\n",
      "Column: PAY_4, Selected False, Rank: 17.000\n",
      "Column: PAY_5, Selected False, Rank: 15.000\n",
      "Column: PAY_6, Selected False, Rank: 16.000\n",
      "Column: BILL_AMT1, Selected True, Rank: 1.000\n",
      "Column: BILL_AMT2, Selected False, Rank: 14.000\n",
      "Column: BILL_AMT3, Selected False, Rank: 10.000\n",
      "Column: BILL_AMT4, Selected False, Rank: 8.000\n",
      "Column: BILL_AMT5, Selected False, Rank: 19.000\n",
      "Column: BILL_AMT6, Selected False, Rank: 6.000\n",
      "Column: PAY_AMT1, Selected False, Rank: 13.000\n",
      "Column: PAY_AMT2, Selected False, Rank: 2.000\n",
      "Column: PAY_AMT3, Selected False, Rank: 9.000\n",
      "Column: PAY_AMT4, Selected False, Rank: 4.000\n",
      "Column: PAY_AMT5, Selected False, Rank: 7.000\n",
      "Column: PAY_AMT6, Selected False, Rank: 12.000\n"
     ]
    }
   ],
   "source": [
    "for i,n in zip(range(X_train.shape[1]), X_train.columns):\n",
    "    print('Column: %s, Selected %s, Rank: %.3f' % (n, selector.support_[i], selector.ranking_[i]))"
   ]
  },
  {
   "cell_type": "markdown",
   "metadata": {},
   "source": [
    "## Model 3: RC"
   ]
  },
  {
   "cell_type": "code",
   "execution_count": 144,
   "metadata": {},
   "outputs": [],
   "source": [
    "numeric_transformer = Pipeline(steps=[\n",
    "    ('scaler', StandardScaler())])\n",
    "\n",
    "categorical_transformer = OneHotEncoder(handle_unknown='ignore', sparse=False)\n",
    "\n",
    "preprocessor = ColumnTransformer(\n",
    "    transformers=[\n",
    "        ('num', numeric_transformer, numeric_features),\n",
    "        ('cat', categorical_transformer, categorical_features)])\n",
    "\n",
    "clf = Pipeline(steps=[('preprocessor', preprocessor),\n",
    "                      ('classifier', RidgeClassifier())])\n",
    "\n",
    "clf.fit(X_train, y_train.values.ravel());"
   ]
  },
  {
   "cell_type": "code",
   "execution_count": 145,
   "metadata": {},
   "outputs": [
    {
     "name": "stdout",
     "output_type": "stream",
     "text": [
      "              precision    recall  f1-score   support\n",
      "\n",
      "        paid       0.85      0.94      0.89     14480\n",
      "     default       0.68      0.42      0.52      4271\n",
      "\n",
      "    accuracy                           0.82     18751\n",
      "   macro avg       0.76      0.68      0.71     18751\n",
      "weighted avg       0.81      0.82      0.81     18751\n",
      "\n"
     ]
    }
   ],
   "source": [
    "print(metrics.classification_report(y_train, clf.predict(X_train), target_names=['paid', 'default']))"
   ]
  },
  {
   "cell_type": "code",
   "execution_count": 146,
   "metadata": {},
   "outputs": [
    {
     "name": "stdout",
     "output_type": "stream",
     "text": [
      "              precision    recall  f1-score   support\n",
      "\n",
      "        paid       0.84      0.95      0.89      3574\n",
      "     default       0.71      0.41      0.52      1114\n",
      "\n",
      "    accuracy                           0.82      4688\n",
      "   macro avg       0.77      0.68      0.71      4688\n",
      "weighted avg       0.81      0.82      0.80      4688\n",
      "\n"
     ]
    }
   ],
   "source": [
    "print(metrics.classification_report(y_test, clf.predict(X_test), target_names=['paid', 'default']))"
   ]
  },
  {
   "cell_type": "markdown",
   "metadata": {},
   "source": [
    "### Hyperparameter Search"
   ]
  },
  {
   "cell_type": "code",
   "execution_count": 147,
   "metadata": {},
   "outputs": [],
   "source": [
    "param_grid = {\n",
    "    'classifier__alpha': [0.1, 0.5, 1, 1.3, 1.6]\n",
    "}\n",
    "\n",
    "model_lr = model_selection.GridSearchCV(clf, param_grid=param_grid, cv=5)\n",
    "model_lr = model_lr.fit(X_train, y_train.values.ravel())"
   ]
  },
  {
   "cell_type": "code",
   "execution_count": 148,
   "metadata": {},
   "outputs": [
    {
     "data": {
      "text/plain": [
       "{'classifier__alpha': 0.5}"
      ]
     },
     "execution_count": 148,
     "metadata": {},
     "output_type": "execute_result"
    }
   ],
   "source": [
    "model_lr.best_params_"
   ]
  },
  {
   "cell_type": "code",
   "execution_count": 149,
   "metadata": {},
   "outputs": [
    {
     "name": "stdout",
     "output_type": "stream",
     "text": [
      "              precision    recall  f1-score   support\n",
      "\n",
      "        paid       0.85      0.94      0.89     14480\n",
      "     default       0.68      0.42      0.52      4271\n",
      "\n",
      "    accuracy                           0.82     18751\n",
      "   macro avg       0.76      0.68      0.71     18751\n",
      "weighted avg       0.81      0.82      0.81     18751\n",
      "\n"
     ]
    }
   ],
   "source": [
    "print(metrics.classification_report(y_train, model_lr.predict(X_train), target_names=['paid', 'default']))"
   ]
  },
  {
   "cell_type": "code",
   "execution_count": 150,
   "metadata": {},
   "outputs": [
    {
     "name": "stdout",
     "output_type": "stream",
     "text": [
      "              precision    recall  f1-score   support\n",
      "\n",
      "        paid       0.84      0.95      0.89      3574\n",
      "     default       0.71      0.41      0.52      1114\n",
      "\n",
      "    accuracy                           0.82      4688\n",
      "   macro avg       0.77      0.68      0.71      4688\n",
      "weighted avg       0.81      0.82      0.80      4688\n",
      "\n"
     ]
    }
   ],
   "source": [
    "print(metrics.classification_report(y_test, model_lr.predict(X_test), target_names=['paid', 'default']))"
   ]
  },
  {
   "cell_type": "code",
   "execution_count": 153,
   "metadata": {},
   "outputs": [],
   "source": [
    "selector = RFE(RidgeClassifier(), n_features_to_select=1, step=1)\n",
    "selector = selector.fit(X_train, y_train.values.ravel())"
   ]
  },
  {
   "cell_type": "code",
   "execution_count": 154,
   "metadata": {},
   "outputs": [
    {
     "name": "stdout",
     "output_type": "stream",
     "text": [
      "Column: LIMIT_BAL, Selected False, Rank: 16.000\n",
      "Column: SEX, Selected False, Rank: 7.000\n",
      "Column: EDUCATION, Selected False, Rank: 9.000\n",
      "Column: MARRIAGE, Selected False, Rank: 4.000\n",
      "Column: AGE, Selected False, Rank: 10.000\n",
      "Column: PAY_1, Selected True, Rank: 1.000\n",
      "Column: PAY_2, Selected False, Rank: 5.000\n",
      "Column: PAY_3, Selected False, Rank: 3.000\n",
      "Column: PAY_4, Selected False, Rank: 8.000\n",
      "Column: PAY_5, Selected False, Rank: 2.000\n",
      "Column: PAY_6, Selected False, Rank: 6.000\n",
      "Column: BILL_AMT1, Selected False, Rank: 12.000\n",
      "Column: BILL_AMT2, Selected False, Rank: 14.000\n",
      "Column: BILL_AMT3, Selected False, Rank: 20.000\n",
      "Column: BILL_AMT4, Selected False, Rank: 18.000\n",
      "Column: BILL_AMT5, Selected False, Rank: 17.000\n",
      "Column: BILL_AMT6, Selected False, Rank: 22.000\n",
      "Column: PAY_AMT1, Selected False, Rank: 11.000\n",
      "Column: PAY_AMT2, Selected False, Rank: 13.000\n",
      "Column: PAY_AMT3, Selected False, Rank: 23.000\n",
      "Column: PAY_AMT4, Selected False, Rank: 19.000\n",
      "Column: PAY_AMT5, Selected False, Rank: 21.000\n",
      "Column: PAY_AMT6, Selected False, Rank: 15.000\n"
     ]
    }
   ],
   "source": [
    "for i,n in zip(range(X_train.shape[1]), X_train.columns):\n",
    "    print('Column: %s, Selected %s, Rank: %.3f' % (n, selector.support_[i], selector.ranking_[i]))"
   ]
  },
  {
   "cell_type": "markdown",
   "metadata": {},
   "source": [
    "## Model 4: Random Forest"
   ]
  },
  {
   "cell_type": "code",
   "execution_count": 157,
   "metadata": {},
   "outputs": [],
   "source": [
    "numeric_transformer = Pipeline(steps=[\n",
    "    ('scaler', StandardScaler())])\n",
    "\n",
    "categorical_transformer = OneHotEncoder(handle_unknown='ignore', sparse=False)\n",
    "\n",
    "preprocessor = ColumnTransformer(\n",
    "    transformers=[\n",
    "        ('num', numeric_transformer, numeric_features),\n",
    "        ('cat', categorical_transformer, categorical_features)])\n",
    "\n",
    "clf = Pipeline(steps=[('preprocessor', preprocessor),\n",
    "                      ('classifier', RandomForestClassifier())])\n",
    "\n",
    "clf.fit(X_train, y_train.values.ravel());"
   ]
  },
  {
   "cell_type": "code",
   "execution_count": 158,
   "metadata": {},
   "outputs": [
    {
     "name": "stdout",
     "output_type": "stream",
     "text": [
      "              precision    recall  f1-score   support\n",
      "\n",
      "        paid       1.00      1.00      1.00     14480\n",
      "     default       1.00      1.00      1.00      4271\n",
      "\n",
      "    accuracy                           1.00     18751\n",
      "   macro avg       1.00      1.00      1.00     18751\n",
      "weighted avg       1.00      1.00      1.00     18751\n",
      "\n"
     ]
    }
   ],
   "source": [
    "print(metrics.classification_report(y_train, clf.predict(X_train), target_names=['paid', 'default']))"
   ]
  },
  {
   "cell_type": "code",
   "execution_count": 159,
   "metadata": {},
   "outputs": [
    {
     "name": "stdout",
     "output_type": "stream",
     "text": [
      "              precision    recall  f1-score   support\n",
      "\n",
      "        paid       0.84      0.95      0.89      3574\n",
      "     default       0.70      0.40      0.51      1114\n",
      "\n",
      "    accuracy                           0.82      4688\n",
      "   macro avg       0.77      0.67      0.70      4688\n",
      "weighted avg       0.80      0.82      0.80      4688\n",
      "\n"
     ]
    }
   ],
   "source": [
    "print(metrics.classification_report(y_test, clf.predict(X_test), target_names=['paid', 'default']))"
   ]
  },
  {
   "cell_type": "markdown",
   "metadata": {},
   "source": [
    "### Hyperparameter search"
   ]
  },
  {
   "cell_type": "code",
   "execution_count": 160,
   "metadata": {},
   "outputs": [],
   "source": [
    "%%time\n",
    "param_grid = {\n",
    "    'classifier__n_estimators': [30, 60, 100, 130, 150],\n",
    "    'classifier__min_samples_leaf': [1, 2, 3, 4, 5],\n",
    "    'classifier__criterion': ['gini', 'entropy']\n",
    "}\n",
    "\n",
    "model_lr = model_selection.GridSearchCV(clf, param_grid=param_grid, cv=5)\n",
    "model_lr = model_lr.fit(X_train, y_train.values.ravel())"
   ]
  },
  {
   "cell_type": "code",
   "execution_count": 161,
   "metadata": {},
   "outputs": [
    {
     "data": {
      "text/plain": [
       "{'classifier__criterion': 'entropy',\n",
       " 'classifier__min_samples_leaf': 4,\n",
       " 'classifier__n_estimators': 60}"
      ]
     },
     "execution_count": 161,
     "metadata": {},
     "output_type": "execute_result"
    }
   ],
   "source": [
    "model_lr.best_params_"
   ]
  },
  {
   "cell_type": "code",
   "execution_count": 162,
   "metadata": {},
   "outputs": [
    {
     "name": "stdout",
     "output_type": "stream",
     "text": [
      "              precision    recall  f1-score   support\n",
      "\n",
      "        paid       0.89      0.98      0.93     14480\n",
      "     default       0.90      0.57      0.70      4271\n",
      "\n",
      "    accuracy                           0.89     18751\n",
      "   macro avg       0.89      0.78      0.82     18751\n",
      "weighted avg       0.89      0.89      0.88     18751\n",
      "\n"
     ]
    }
   ],
   "source": [
    "print(metrics.classification_report(y_train, model_lr.predict(X_train), target_names=['paid', 'default']))"
   ]
  },
  {
   "cell_type": "code",
   "execution_count": 163,
   "metadata": {},
   "outputs": [
    {
     "name": "stdout",
     "output_type": "stream",
     "text": [
      "              precision    recall  f1-score   support\n",
      "\n",
      "        paid       0.84      0.95      0.89      3574\n",
      "     default       0.70      0.40      0.51      1114\n",
      "\n",
      "    accuracy                           0.82      4688\n",
      "   macro avg       0.77      0.67      0.70      4688\n",
      "weighted avg       0.80      0.82      0.80      4688\n",
      "\n"
     ]
    }
   ],
   "source": [
    "print(metrics.classification_report(y_test, clf.predict(X_test), target_names=['paid', 'default']))"
   ]
  },
  {
   "cell_type": "code",
   "execution_count": 164,
   "metadata": {},
   "outputs": [],
   "source": [
    "selector = RFE(RandomForestClassifier(), n_features_to_select=1, step=1)\n",
    "selector = selector.fit(X_train, y_train.values.ravel())"
   ]
  },
  {
   "cell_type": "code",
   "execution_count": 165,
   "metadata": {},
   "outputs": [
    {
     "name": "stdout",
     "output_type": "stream",
     "text": [
      "Column: LIMIT_BAL, Selected False, Rank: 16.000\n",
      "Column: SEX, Selected False, Rank: 23.000\n",
      "Column: EDUCATION, Selected False, Rank: 21.000\n",
      "Column: MARRIAGE, Selected False, Rank: 22.000\n",
      "Column: AGE, Selected False, Rank: 12.000\n",
      "Column: PAY_1, Selected False, Rank: 4.000\n",
      "Column: PAY_2, Selected False, Rank: 13.000\n",
      "Column: PAY_3, Selected False, Rank: 17.000\n",
      "Column: PAY_4, Selected False, Rank: 19.000\n",
      "Column: PAY_5, Selected False, Rank: 18.000\n",
      "Column: PAY_6, Selected False, Rank: 20.000\n",
      "Column: BILL_AMT1, Selected True, Rank: 1.000\n",
      "Column: BILL_AMT2, Selected False, Rank: 9.000\n",
      "Column: BILL_AMT3, Selected False, Rank: 3.000\n",
      "Column: BILL_AMT4, Selected False, Rank: 6.000\n",
      "Column: BILL_AMT5, Selected False, Rank: 2.000\n",
      "Column: BILL_AMT6, Selected False, Rank: 5.000\n",
      "Column: PAY_AMT1, Selected False, Rank: 7.000\n",
      "Column: PAY_AMT2, Selected False, Rank: 8.000\n",
      "Column: PAY_AMT3, Selected False, Rank: 10.000\n",
      "Column: PAY_AMT4, Selected False, Rank: 11.000\n",
      "Column: PAY_AMT5, Selected False, Rank: 15.000\n",
      "Column: PAY_AMT6, Selected False, Rank: 14.000\n"
     ]
    }
   ],
   "source": [
    "for i,n in zip(range(X_train.shape[1]), X_train.columns):\n",
    "    print('Column: %s, Selected %s, Rank: %.3f' % (n, selector.support_[i], selector.ranking_[i]))"
   ]
  },
  {
   "cell_type": "code",
   "execution_count": 183,
   "metadata": {},
   "outputs": [],
   "source": [
    "fi = model_lr.estimator['classifier'].feature_importances_\n",
    "var_names = list(model_lr.best_estimator_['preprocessor']._iter(fitted=True))[1][1].get_feature_names(['SEX', 'EDUCATION',\n",
    "                                                   'MARRIAGE', 'PAY_1', 'PAY_2',\n",
    "                                                   'PAY_3', 'PAY_4', 'PAY_5',\n",
    "                                                   'PAY_6'])"
   ]
  },
  {
   "cell_type": "code",
   "execution_count": 186,
   "metadata": {},
   "outputs": [],
   "source": [
    "forest_importances = pd.Series(fi, index=numeric_features + list(var_names))"
   ]
  },
  {
   "cell_type": "code",
   "execution_count": 191,
   "metadata": {},
   "outputs": [
    {
     "data": {
      "image/png": "[encoded data removed]",
      "text/plain": [
       "<Figure size 1224x432 with 1 Axes>"
      ]
     },
     "metadata": {},
     "output_type": "display_data"
    }
   ],
   "source": [
    "import matplotlib.pyplot as plt\n",
    "fig, ax = plt.subplots(figsize=(17, 6))\n",
    "forest_importances.plot.bar(ax=ax)\n",
    "ax.set_title(\"Feature importances using MDI\")\n",
    "ax.set_ylabel(\"Mean decrease in impurity\")\n",
    "fig.tight_layout()"
   ]
  },
  {
   "cell_type": "code",
   "execution_count": null,
   "metadata": {},
   "outputs": [],
   "source": []
  }
 ],
 "metadata": {
  "kernelspec": {
   "display_name": "Python 3",
   "language": "python",
   "name": "python3"
  },
  "language_info": {
   "codemirror_mode": {
    "name": "ipython",
    "version": 3
   },
   "file_extension": ".py",
   "mimetype": "text/x-python",
   "name": "python",
   "nbconvert_exporter": "python",
   "pygments_lexer": "ipython3",
   "version": "3.6.9"
  }
 },
 "nbformat": 4,
 "nbformat_minor": 2
}
