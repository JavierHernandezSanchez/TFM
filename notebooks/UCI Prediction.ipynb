{
 "cells": [
  {
   "cell_type": "code",
   "execution_count": 116,
   "metadata": {},
   "outputs": [],
   "source": [
    "import pandas as pd\n",
    "import numpy as np\n",
    "import matplotlib.pyplot as plt\n",
    "import seaborn as sns\n",
    "from sklearn.model_selection import train_test_split\n",
    "from sklearn.model_selection import learning_curve\n",
    "from sklearn import metrics"
   ]
  },
  {
   "cell_type": "code",
   "execution_count": 76,
   "metadata": {},
   "outputs": [],
   "source": [
    "from sklearn.linear_model import LinearRegression\n",
    "from sklearn.linear_model import LogisticRegression\n",
    "\n",
    "from sklearn.compose import ColumnTransformer\n",
    "from sklearn.pipeline import Pipeline\n",
    "from sklearn.impute import SimpleImputer\n",
    "from sklearn.preprocessing import StandardScaler, OneHotEncoder\n",
    "from sklearn import model_selection"
   ]
  },
  {
   "cell_type": "code",
   "execution_count": 77,
   "metadata": {},
   "outputs": [],
   "source": [
    "from sklearn.dummy import DummyClassifier"
   ]
  },
  {
   "cell_type": "markdown",
   "metadata": {},
   "source": [
    "## Data Load"
   ]
  },
  {
   "cell_type": "code",
   "execution_count": 78,
   "metadata": {},
   "outputs": [],
   "source": [
    "data_path = \"../data/uci_data.xls\""
   ]
  },
  {
   "cell_type": "code",
   "execution_count": 79,
   "metadata": {},
   "outputs": [],
   "source": [
    "df = pd.read_excel(data_path, header=0, index_col=0, skiprows=1)\n",
    "df = df.rename(columns={'PAY_0': 'PAY_1'})"
   ]
  },
  {
   "cell_type": "markdown",
   "metadata": {},
   "source": [
    "## Data cleaning"
   ]
  },
  {
   "cell_type": "code",
   "execution_count": 80,
   "metadata": {},
   "outputs": [],
   "source": [
    "# I set all invalid values to 'other'\n",
    "df.loc[~(df['EDUCATION'].isin([1, 2, 3, 4])), 'EDUCATION'] = 4\n",
    "df.loc[~(df['MARRIAGE'].isin([1, 2, 3])), 'MARRIAGE'] = 3\n",
    "\n",
    "# PAY_* fuera de rango\n",
    "paux = ~(df['PAY_1'].isin([-1,0,1,2,3,4,5,6,7,8,9]))\n",
    "for i in range(2, 7):\n",
    "    paux = paux | ~(df['PAY_' + str(i)].isin([-1,0,1,2,3,4,5,6,7,8,9]))\n",
    "    \n",
    "df = df[~paux]"
   ]
  },
  {
   "cell_type": "markdown",
   "metadata": {},
   "source": [
    "## Data split"
   ]
  },
  {
   "cell_type": "code",
   "execution_count": 81,
   "metadata": {},
   "outputs": [],
   "source": [
    "train, test = train_test_split(df, test_size=0.2, random_state=42)\n",
    "X_train = train.drop(columns=(\"default payment next month\"))\n",
    "y_train = train[[\"default payment next month\"]]\n",
    "X_test = test.drop(columns=(\"default payment next month\"))\n",
    "y_test = test[[\"default payment next month\"]]"
   ]
  },
  {
   "cell_type": "code",
   "execution_count": 82,
   "metadata": {},
   "outputs": [
    {
     "data": {
      "text/html": [
       "<div>\n",
       "<style scoped>\n",
       "    .dataframe tbody tr th:only-of-type {\n",
       "        vertical-align: middle;\n",
       "    }\n",
       "\n",
       "    .dataframe tbody tr th {\n",
       "        vertical-align: top;\n",
       "    }\n",
       "\n",
       "    .dataframe thead th {\n",
       "        text-align: right;\n",
       "    }\n",
       "</style>\n",
       "<table border=\"1\" class=\"dataframe\">\n",
       "  <thead>\n",
       "    <tr style=\"text-align: right;\">\n",
       "      <th></th>\n",
       "      <th>LIMIT_BAL</th>\n",
       "      <th>SEX</th>\n",
       "      <th>EDUCATION</th>\n",
       "      <th>MARRIAGE</th>\n",
       "      <th>AGE</th>\n",
       "      <th>PAY_1</th>\n",
       "      <th>PAY_2</th>\n",
       "      <th>PAY_3</th>\n",
       "      <th>PAY_4</th>\n",
       "      <th>PAY_5</th>\n",
       "      <th>...</th>\n",
       "      <th>BILL_AMT4</th>\n",
       "      <th>BILL_AMT5</th>\n",
       "      <th>BILL_AMT6</th>\n",
       "      <th>PAY_AMT1</th>\n",
       "      <th>PAY_AMT2</th>\n",
       "      <th>PAY_AMT3</th>\n",
       "      <th>PAY_AMT4</th>\n",
       "      <th>PAY_AMT5</th>\n",
       "      <th>PAY_AMT6</th>\n",
       "      <th>default payment next month</th>\n",
       "    </tr>\n",
       "    <tr>\n",
       "      <th>ID</th>\n",
       "      <th></th>\n",
       "      <th></th>\n",
       "      <th></th>\n",
       "      <th></th>\n",
       "      <th></th>\n",
       "      <th></th>\n",
       "      <th></th>\n",
       "      <th></th>\n",
       "      <th></th>\n",
       "      <th></th>\n",
       "      <th></th>\n",
       "      <th></th>\n",
       "      <th></th>\n",
       "      <th></th>\n",
       "      <th></th>\n",
       "      <th></th>\n",
       "      <th></th>\n",
       "      <th></th>\n",
       "      <th></th>\n",
       "      <th></th>\n",
       "      <th></th>\n",
       "    </tr>\n",
       "  </thead>\n",
       "  <tbody>\n",
       "    <tr>\n",
       "      <th>29366</th>\n",
       "      <td>50000</td>\n",
       "      <td>1</td>\n",
       "      <td>2</td>\n",
       "      <td>2</td>\n",
       "      <td>24</td>\n",
       "      <td>0</td>\n",
       "      <td>0</td>\n",
       "      <td>0</td>\n",
       "      <td>0</td>\n",
       "      <td>0</td>\n",
       "      <td>...</td>\n",
       "      <td>20658</td>\n",
       "      <td>9426</td>\n",
       "      <td>8215</td>\n",
       "      <td>2152</td>\n",
       "      <td>1209</td>\n",
       "      <td>1080</td>\n",
       "      <td>438</td>\n",
       "      <td>434</td>\n",
       "      <td>390</td>\n",
       "      <td>0</td>\n",
       "    </tr>\n",
       "    <tr>\n",
       "      <th>29255</th>\n",
       "      <td>50000</td>\n",
       "      <td>1</td>\n",
       "      <td>2</td>\n",
       "      <td>1</td>\n",
       "      <td>25</td>\n",
       "      <td>0</td>\n",
       "      <td>0</td>\n",
       "      <td>0</td>\n",
       "      <td>0</td>\n",
       "      <td>0</td>\n",
       "      <td>...</td>\n",
       "      <td>47683</td>\n",
       "      <td>46844</td>\n",
       "      <td>47537</td>\n",
       "      <td>1922</td>\n",
       "      <td>2200</td>\n",
       "      <td>2000</td>\n",
       "      <td>1400</td>\n",
       "      <td>2000</td>\n",
       "      <td>2270</td>\n",
       "      <td>1</td>\n",
       "    </tr>\n",
       "    <tr>\n",
       "      <th>21187</th>\n",
       "      <td>400000</td>\n",
       "      <td>1</td>\n",
       "      <td>1</td>\n",
       "      <td>2</td>\n",
       "      <td>32</td>\n",
       "      <td>0</td>\n",
       "      <td>0</td>\n",
       "      <td>0</td>\n",
       "      <td>0</td>\n",
       "      <td>0</td>\n",
       "      <td>...</td>\n",
       "      <td>48272</td>\n",
       "      <td>49478</td>\n",
       "      <td>51242</td>\n",
       "      <td>3028</td>\n",
       "      <td>3023</td>\n",
       "      <td>3000</td>\n",
       "      <td>3000</td>\n",
       "      <td>3000</td>\n",
       "      <td>38662</td>\n",
       "      <td>0</td>\n",
       "    </tr>\n",
       "    <tr>\n",
       "      <th>15756</th>\n",
       "      <td>60000</td>\n",
       "      <td>2</td>\n",
       "      <td>3</td>\n",
       "      <td>2</td>\n",
       "      <td>23</td>\n",
       "      <td>0</td>\n",
       "      <td>0</td>\n",
       "      <td>0</td>\n",
       "      <td>0</td>\n",
       "      <td>0</td>\n",
       "      <td>...</td>\n",
       "      <td>47818</td>\n",
       "      <td>28357</td>\n",
       "      <td>29309</td>\n",
       "      <td>3000</td>\n",
       "      <td>2148</td>\n",
       "      <td>3049</td>\n",
       "      <td>3000</td>\n",
       "      <td>3002</td>\n",
       "      <td>1021</td>\n",
       "      <td>0</td>\n",
       "    </tr>\n",
       "    <tr>\n",
       "      <th>7506</th>\n",
       "      <td>80000</td>\n",
       "      <td>2</td>\n",
       "      <td>2</td>\n",
       "      <td>1</td>\n",
       "      <td>37</td>\n",
       "      <td>1</td>\n",
       "      <td>2</td>\n",
       "      <td>0</td>\n",
       "      <td>0</td>\n",
       "      <td>0</td>\n",
       "      <td>...</td>\n",
       "      <td>57028</td>\n",
       "      <td>59456</td>\n",
       "      <td>55623</td>\n",
       "      <td>21</td>\n",
       "      <td>1819</td>\n",
       "      <td>5000</td>\n",
       "      <td>4000</td>\n",
       "      <td>4000</td>\n",
       "      <td>1894</td>\n",
       "      <td>1</td>\n",
       "    </tr>\n",
       "  </tbody>\n",
       "</table>\n",
       "<p>5 rows × 24 columns</p>\n",
       "</div>"
      ],
      "text/plain": [
       "       LIMIT_BAL  SEX  EDUCATION  MARRIAGE  AGE  PAY_1  PAY_2  PAY_3  PAY_4  \\\n",
       "ID                                                                            \n",
       "29366      50000    1          2         2   24      0      0      0      0   \n",
       "29255      50000    1          2         1   25      0      0      0      0   \n",
       "21187     400000    1          1         2   32      0      0      0      0   \n",
       "15756      60000    2          3         2   23      0      0      0      0   \n",
       "7506       80000    2          2         1   37      1      2      0      0   \n",
       "\n",
       "       PAY_5  ...  BILL_AMT4  BILL_AMT5  BILL_AMT6  PAY_AMT1  PAY_AMT2  \\\n",
       "ID            ...                                                        \n",
       "29366      0  ...      20658       9426       8215      2152      1209   \n",
       "29255      0  ...      47683      46844      47537      1922      2200   \n",
       "21187      0  ...      48272      49478      51242      3028      3023   \n",
       "15756      0  ...      47818      28357      29309      3000      2148   \n",
       "7506       0  ...      57028      59456      55623        21      1819   \n",
       "\n",
       "       PAY_AMT3  PAY_AMT4  PAY_AMT5  PAY_AMT6  default payment next month  \n",
       "ID                                                                         \n",
       "29366      1080       438       434       390                           0  \n",
       "29255      2000      1400      2000      2270                           1  \n",
       "21187      3000      3000      3000     38662                           0  \n",
       "15756      3049      3000      3002      1021                           0  \n",
       "7506       5000      4000      4000      1894                           1  \n",
       "\n",
       "[5 rows x 24 columns]"
      ]
     },
     "execution_count": 82,
     "metadata": {},
     "output_type": "execute_result"
    }
   ],
   "source": [
    "train.head()"
   ]
  },
  {
   "cell_type": "code",
   "execution_count": 83,
   "metadata": {},
   "outputs": [],
   "source": [
    "numeric_features = [\"LIMIT_BAL\", \"AGE\", \n",
    "                    \"BILL_AMT1\", \"BILL_AMT2\", \"BILL_AMT3\", \"BILL_AMT4\", \"BILL_AMT5\", \"BILL_AMT6\", \n",
    "                    \"PAY_AMT1\", \"PAY_AMT2\", \"PAY_AMT3\", \"PAY_AMT4\", \"PAY_AMT5\", \"PAY_AMT6\"]\n",
    "\n",
    "categorical_features = [\"SEX\", \"EDUCATION\", \"MARRIAGE\", \"PAY_1\", \"PAY_2\", \"PAY_3\", \"PAY_4\", \"PAY_5\", \"PAY_6\"]"
   ]
  },
  {
   "cell_type": "markdown",
   "metadata": {},
   "source": [
    "## Naive classifier"
   ]
  },
  {
   "cell_type": "code",
   "execution_count": 84,
   "metadata": {},
   "outputs": [
    {
     "name": "stdout",
     "output_type": "stream",
     "text": [
      "\n",
      "Train: \n",
      "    acc->0.77, rec->0.0\n",
      "    roc->0.5\n",
      "    f1->0.0\n",
      "Test: \n",
      "    acc->0.76, rec->0.0\n",
      "    roc->0.5\n",
      "    f1->0.0\n"
     ]
    }
   ],
   "source": [
    "dclf = DummyClassifier(strategy='most_frequent', random_state=42)\n",
    "dclf = dclf.fit(X_train, y_train)\n",
    "train_acc = metrics.accuracy_score(y_train, dclf.predict(X_train))\n",
    "test_acc = metrics.accuracy_score(y_test, dclf.predict(X_test))\n",
    "train_rec = metrics.recall_score(y_train, dclf.predict(X_train))\n",
    "test_rec = metrics.recall_score(y_test, dclf.predict(X_test))\n",
    "train_roc = metrics.roc_auc_score(y_train, dclf.predict(X_train))\n",
    "test_roc = metrics.roc_auc_score(y_test, dclf.predict(X_test))\n",
    "train_f1 = metrics.f1_score(y_train, dclf.predict(X_train))\n",
    "test_f1 = metrics.f1_score(y_test, dclf.predict(X_test))\n",
    "print(f\"\"\"\n",
    "Train: \n",
    "    acc->{train_acc:.2}, rec->{train_rec:.2}\n",
    "    roc->{train_roc:.2}\n",
    "    f1->{train_f1:.2}\n",
    "Test: \n",
    "    acc->{test_acc:.2}, rec->{test_rec:.2}\n",
    "    roc->{test_roc:.2}\n",
    "    f1->{test_f1:.2}\"\"\")"
   ]
  },
  {
   "cell_type": "markdown",
   "metadata": {},
   "source": [
    "## Logistic Regression"
   ]
  },
  {
   "cell_type": "code",
   "execution_count": 85,
   "metadata": {},
   "outputs": [],
   "source": [
    "numeric_transformer = Pipeline(steps=[\n",
    "    ('scaler', StandardScaler())])\n",
    "\n",
    "categorical_transformer = OneHotEncoder(handle_unknown='ignore')\n",
    "\n",
    "preprocessor = ColumnTransformer(\n",
    "    transformers=[\n",
    "        ('num', numeric_transformer, numeric_features),\n",
    "        ('cat', categorical_transformer, categorical_features)])\n",
    "\n",
    "clf = Pipeline(steps=[('preprocessor', preprocessor),\n",
    "                      ('classifier', LogisticRegression(solver='liblinear',\n",
    "                                                        class_weight='balanced', \n",
    "                                                        max_iter=5000))])"
   ]
  },
  {
   "cell_type": "code",
   "execution_count": 86,
   "metadata": {},
   "outputs": [
    {
     "name": "stdout",
     "output_type": "stream",
     "text": [
      "CPU times: user 310 ms, sys: 12 ms, total: 322 ms\n",
      "Wall time: 328 ms\n"
     ]
    },
    {
     "data": {
      "text/plain": [
       "Pipeline(steps=[('preprocessor',\n",
       "                 ColumnTransformer(transformers=[('num',\n",
       "                                                  Pipeline(steps=[('scaler',\n",
       "                                                                   StandardScaler())]),\n",
       "                                                  ['LIMIT_BAL', 'AGE',\n",
       "                                                   'BILL_AMT1', 'BILL_AMT2',\n",
       "                                                   'BILL_AMT3', 'BILL_AMT4',\n",
       "                                                   'BILL_AMT5', 'BILL_AMT6',\n",
       "                                                   'PAY_AMT1', 'PAY_AMT2',\n",
       "                                                   'PAY_AMT3', 'PAY_AMT4',\n",
       "                                                   'PAY_AMT5', 'PAY_AMT6']),\n",
       "                                                 ('cat',\n",
       "                                                  OneHotEncoder(handle_unknown='ignore'),\n",
       "                                                  ['SEX', 'EDUCATION',\n",
       "                                                   'MARRIAGE', 'PAY_1', 'PAY_2',\n",
       "                                                   'PAY_3', 'PAY_4', 'PAY_5',\n",
       "                                                   'PAY_6'])])),\n",
       "                ('classifier',\n",
       "                 LogisticRegression(class_weight='balanced', max_iter=5000,\n",
       "                                    solver='liblinear'))])"
      ]
     },
     "execution_count": 86,
     "metadata": {},
     "output_type": "execute_result"
    }
   ],
   "source": [
    "%%time\n",
    "clf.fit(X_train, y_train.values.ravel());"
   ]
  },
  {
   "cell_type": "code",
   "execution_count": 87,
   "metadata": {},
   "outputs": [
    {
     "data": {
      "text/plain": [
       "array([[12280,  2200],\n",
       "       [ 1695,  2576]])"
      ]
     },
     "execution_count": 87,
     "metadata": {},
     "output_type": "execute_result"
    }
   ],
   "source": [
    "metrics.confusion_matrix(y_train, clf.predict(X_train))"
   ]
  },
  {
   "cell_type": "markdown",
   "metadata": {},
   "source": [
    "C(0,0) True negatives\n",
    "C(1,0) False negatives\n",
    "C(1,1) True positives\n",
    "C(0,1) False positives"
   ]
  },
  {
   "cell_type": "code",
   "execution_count": 88,
   "metadata": {},
   "outputs": [
    {
     "data": {
      "text/plain": [
       "array([[3063,  511],\n",
       "       [ 455,  659]])"
      ]
     },
     "execution_count": 88,
     "metadata": {},
     "output_type": "execute_result"
    }
   ],
   "source": [
    "metrics.confusion_matrix(y_test, clf.predict(X_test))"
   ]
  },
  {
   "cell_type": "code",
   "execution_count": 89,
   "metadata": {},
   "outputs": [
    {
     "name": "stdout",
     "output_type": "stream",
     "text": [
      "\n",
      "Train: \n",
      "    acc->0.79, pre->0.54, rec->0.6, roc->0.73, f1->0.57\n",
      "Test: \n",
      "    acc->0.79, pre->0.56, rec->0.59, roc->0.72, f1->0.58\n"
     ]
    }
   ],
   "source": [
    "train_pre = metrics.precision_score(y_train, clf.predict(X_train))\n",
    "test_pre = metrics.precision_score(y_test, clf.predict(X_test))\n",
    "train_acc = metrics.accuracy_score(y_train, clf.predict(X_train))\n",
    "test_acc = metrics.accuracy_score(y_test, clf.predict(X_test))\n",
    "train_rec = metrics.recall_score(y_train, clf.predict(X_train))\n",
    "test_rec = metrics.recall_score(y_test, clf.predict(X_test))\n",
    "train_roc = metrics.roc_auc_score(y_train, clf.predict(X_train))\n",
    "test_roc = metrics.roc_auc_score(y_test, clf.predict(X_test))\n",
    "train_f1 = metrics.f1_score(y_train, clf.predict(X_train))\n",
    "test_f1 = metrics.f1_score(y_test, clf.predict(X_test))\n",
    "print(f\"\"\"\n",
    "Train: \n",
    "    acc->{train_acc:.2}, pre->{train_pre:.2}, rec->{train_rec:.2}, roc->{train_roc:.2}, f1->{train_f1:.2}\n",
    "Test: \n",
    "    acc->{test_acc:.2}, pre->{test_pre:.2}, rec->{test_rec:.2}, roc->{test_roc:.2}, f1->{test_f1:.2}\"\"\")"
   ]
  },
  {
   "cell_type": "code",
   "execution_count": 90,
   "metadata": {},
   "outputs": [
    {
     "data": {
      "text/plain": [
       "0.5393634840871022"
      ]
     },
     "execution_count": 90,
     "metadata": {},
     "output_type": "execute_result"
    }
   ],
   "source": [
    "metrics.precision_score(y_train, clf.predict(X_train))"
   ]
  },
  {
   "cell_type": "code",
   "execution_count": 91,
   "metadata": {},
   "outputs": [
    {
     "name": "stdout",
     "output_type": "stream",
     "text": [
      "              precision    recall  f1-score   support\n",
      "\n",
      "        paid       0.88      0.85      0.86     14480\n",
      "     default       0.54      0.60      0.57      4271\n",
      "\n",
      "    accuracy                           0.79     18751\n",
      "   macro avg       0.71      0.73      0.72     18751\n",
      "weighted avg       0.80      0.79      0.80     18751\n",
      "\n"
     ]
    }
   ],
   "source": [
    "print(metrics.classification_report(y_train, clf.predict(X_train), target_names=['paid', 'default']))"
   ]
  },
  {
   "cell_type": "code",
   "execution_count": 92,
   "metadata": {},
   "outputs": [
    {
     "name": "stdout",
     "output_type": "stream",
     "text": [
      "CPU times: user 7.59 s, sys: 1.06 s, total: 8.65 s\n",
      "Wall time: 6.42 s\n"
     ]
    },
    {
     "data": {
      "image/png": "[encoded data removed]",
      "text/plain": [
       "<Figure size 432x288 with 1 Axes>"
      ]
     },
     "metadata": {},
     "output_type": "display_data"
    }
   ],
   "source": [
    "%%time\n",
    "# Calculate training and test mean and std\n",
    "train_sizes, train_scores, test_scores = learning_curve(estimator=clf, \n",
    "                                                        X=X_train, \n",
    "                                                        y=y_train.values.ravel(), \n",
    "                                                        cv=5, \n",
    "                                                        train_sizes=np.linspace(0.1, 1, 10),\n",
    "                                                        n_jobs=1)\n",
    "train_mean = np.mean(train_scores, axis=1)\n",
    "train_std = np.std(train_scores, axis=1)\n",
    "test_mean = np.mean(test_scores, axis=1)\n",
    "test_std = np.std(test_scores, axis=1)\n",
    "plt.plot(train_sizes, train_mean, color='blue', marker='o', markersize=5, label='Training Accuracy')"
   ]
  },
  {
   "cell_type": "code",
   "execution_count": 93,
   "metadata": {},
   "outputs": [
    {
     "data": {
      "text/plain": [
       "[<matplotlib.lines.Line2D at 0x7f181da72fd0>]"
      ]
     },
     "execution_count": 93,
     "metadata": {},
     "output_type": "execute_result"
    },
    {
     "data": {
      "image/png": "[encoded data removed]",
      "text/plain": [
       "<Figure size 432x288 with 1 Axes>"
      ]
     },
     "metadata": {},
     "output_type": "display_data"
    }
   ],
   "source": [
    "plt.fill_between(train_sizes, train_mean + train_std, train_mean - train_std, alpha=0.15, color='blue')\n",
    "plt.plot(train_sizes, test_mean, color='green', marker='+', markersize=5, linestyle='--', label='Validation Accuracy')"
   ]
  },
  {
   "cell_type": "markdown",
   "metadata": {},
   "source": [
    "## Hyperparameter Search"
   ]
  },
  {
   "cell_type": "code",
   "execution_count": 94,
   "metadata": {},
   "outputs": [],
   "source": [
    "from warnings import simplefilter\n",
    "from sklearn.exceptions import ConvergenceWarning\n",
    "simplefilter(\"ignore\", category=ConvergenceWarning)"
   ]
  },
  {
   "cell_type": "code",
   "execution_count": 95,
   "metadata": {},
   "outputs": [],
   "source": [
    "param_grid = {\n",
    "    'classifier__penalty': ['l1', 'l2'],\n",
    "    'classifier__C': [0.001, 0.003, 0.006, 0.009, 0.01, 0.03, 0.03, 0.09,  0.1, 1, 10, 100]\n",
    "}\n",
    "\n",
    "model_lr = model_selection.GridSearchCV(clf, param_grid=param_grid, cv=5)"
   ]
  },
  {
   "cell_type": "code",
   "execution_count": 96,
   "metadata": {},
   "outputs": [
    {
     "name": "stdout",
     "output_type": "stream",
     "text": [
      "CPU times: user 48.2 s, sys: 256 ms, total: 48.4 s\n",
      "Wall time: 48.5 s\n"
     ]
    }
   ],
   "source": [
    "%%time\n",
    "model_lr = model_lr.fit(X_train, y_train.values.ravel())"
   ]
  },
  {
   "cell_type": "code",
   "execution_count": 97,
   "metadata": {},
   "outputs": [
    {
     "data": {
      "text/plain": [
       "array([[12268,  2212],\n",
       "       [ 1687,  2584]])"
      ]
     },
     "execution_count": 97,
     "metadata": {},
     "output_type": "execute_result"
    }
   ],
   "source": [
    "metrics.confusion_matrix(y_train, model_lr.predict(X_train))"
   ]
  },
  {
   "cell_type": "code",
   "execution_count": 98,
   "metadata": {},
   "outputs": [
    {
     "data": {
      "text/plain": [
       "array([[3064,  510],\n",
       "       [ 457,  657]])"
      ]
     },
     "execution_count": 98,
     "metadata": {},
     "output_type": "execute_result"
    }
   ],
   "source": [
    "metrics.confusion_matrix(y_test, model_lr.predict(X_test))"
   ]
  },
  {
   "cell_type": "code",
   "execution_count": 99,
   "metadata": {},
   "outputs": [
    {
     "name": "stdout",
     "output_type": "stream",
     "text": [
      "\n",
      "Train: \n",
      "    acc->0.79, rec->0.61\n",
      "    roc->0.73\n",
      "    f1->0.57\n",
      "Test: \n",
      "    acc->0.79, rec->0.59\n",
      "    roc->0.72\n",
      "    f1->0.58\n"
     ]
    }
   ],
   "source": [
    "train_acc = metrics.accuracy_score(y_train, model_lr.predict(X_train))\n",
    "test_acc = metrics.accuracy_score(y_test, model_lr.predict(X_test))\n",
    "train_rec = metrics.recall_score(y_train, model_lr.predict(X_train))\n",
    "test_rec = metrics.recall_score(y_test, model_lr.predict(X_test))\n",
    "train_roc = metrics.roc_auc_score(y_train, model_lr.predict(X_train))\n",
    "test_roc = metrics.roc_auc_score(y_test, model_lr.predict(X_test))\n",
    "train_f1 = metrics.f1_score(y_train, model_lr.predict(X_train))\n",
    "test_f1 = metrics.f1_score(y_test, model_lr.predict(X_test))\n",
    "print(f\"\"\"\n",
    "Train: \n",
    "    acc->{train_acc:.2}, rec->{train_rec:.2}\n",
    "    roc->{train_roc:.2}\n",
    "    f1->{train_f1:.2}\n",
    "Test: \n",
    "    acc->{test_acc:.2}, rec->{test_rec:.2}\n",
    "    roc->{test_roc:.2}\n",
    "    f1->{test_f1:.2}\"\"\")"
   ]
  },
  {
   "cell_type": "code",
   "execution_count": 100,
   "metadata": {},
   "outputs": [
    {
     "data": {
      "text/plain": [
       "{'classifier__C': 0.09, 'classifier__penalty': 'l2'}"
      ]
     },
     "execution_count": 100,
     "metadata": {},
     "output_type": "execute_result"
    }
   ],
   "source": [
    "model_lr.best_params_"
   ]
  },
  {
   "cell_type": "code",
   "execution_count": 101,
   "metadata": {},
   "outputs": [],
   "source": [
    "param_grid = {\n",
    "    'classifier__penalty': ['l1', 'l2'],\n",
    "    'classifier__C': [0.05, 0.06, 0.07, 0.08, 0.09]\n",
    "}\n",
    "\n",
    "model_lr = model_selection.GridSearchCV(clf, param_grid=param_grid, cv=5)\n",
    "\n",
    "model_lr = model_lr.fit(X_train, y_train.values.ravel())"
   ]
  },
  {
   "cell_type": "code",
   "execution_count": 102,
   "metadata": {},
   "outputs": [
    {
     "data": {
      "text/plain": [
       "array([[12268,  2212],\n",
       "       [ 1687,  2584]])"
      ]
     },
     "execution_count": 102,
     "metadata": {},
     "output_type": "execute_result"
    }
   ],
   "source": [
    "metrics.confusion_matrix(y_train, model_lr.predict(X_train))"
   ]
  },
  {
   "cell_type": "code",
   "execution_count": 103,
   "metadata": {},
   "outputs": [
    {
     "data": {
      "text/plain": [
       "array([[3064,  510],\n",
       "       [ 457,  657]])"
      ]
     },
     "execution_count": 103,
     "metadata": {},
     "output_type": "execute_result"
    }
   ],
   "source": [
    "metrics.confusion_matrix(y_test, model_lr.predict(X_test))"
   ]
  },
  {
   "cell_type": "code",
   "execution_count": 104,
   "metadata": {},
   "outputs": [
    {
     "data": {
      "text/plain": [
       "(0.792064423230761, 0.6050105361741981)"
      ]
     },
     "execution_count": 104,
     "metadata": {},
     "output_type": "execute_result"
    }
   ],
   "source": [
    "metrics.accuracy_score(y_train, model_lr.predict(X_train)), metrics.recall_score(y_train, model_lr.predict(X_train))"
   ]
  },
  {
   "cell_type": "code",
   "execution_count": 105,
   "metadata": {},
   "outputs": [
    {
     "data": {
      "text/plain": [
       "(0.7937286689419796, 0.5897666068222621)"
      ]
     },
     "execution_count": 105,
     "metadata": {},
     "output_type": "execute_result"
    }
   ],
   "source": [
    "metrics.accuracy_score(y_test, model_lr.predict(X_test)), metrics.recall_score(y_test, model_lr.predict(X_test))"
   ]
  },
  {
   "cell_type": "code",
   "execution_count": 106,
   "metadata": {},
   "outputs": [
    {
     "data": {
      "text/plain": [
       "{'classifier__C': 0.09, 'classifier__penalty': 'l2'}"
      ]
     },
     "execution_count": 106,
     "metadata": {},
     "output_type": "execute_result"
    }
   ],
   "source": [
    "model_lr.best_params_"
   ]
  },
  {
   "cell_type": "markdown",
   "metadata": {},
   "source": [
    "## Importancia de las variables"
   ]
  },
  {
   "cell_type": "code",
   "execution_count": 210,
   "metadata": {},
   "outputs": [
    {
     "data": {
      "image/png": "[encoded data removed]",
      "text/plain": [
       "<Figure size 1224x432 with 1 Axes>"
      ]
     },
     "metadata": {},
     "output_type": "display_data"
    }
   ],
   "source": [
    "classifier = model_lr.best_estimator_.named_steps[\"classifier\"]\n",
    "importance = classifier.coef_[0]\n",
    "\n",
    "#for i,v in enumerate(importance):\n",
    "#    print(f'Feature: {i}, Score: {v:.5f}')\n",
    "\n",
    "var_names = list(model_lr.best_estimator_['preprocessor']._iter(fitted=True))[1][1].get_feature_names(['SEX', 'EDUCATION',\n",
    "                                                   'MARRIAGE', 'PAY_1', 'PAY_2',\n",
    "                                                   'PAY_3', 'PAY_4', 'PAY_5',\n",
    "                                                   'PAY_6'])\n",
    "\n",
    "fig, ax = plt.subplots(figsize=(17, 6))\n",
    "importance_plot = sns.barplot(ax=ax, x=numeric_features + list(var_names), y=importance)\n",
    "for item in importance_plot.get_xticklabels():\n",
    "    item.set_rotation(90)"
   ]
  },
  {
   "cell_type": "code",
   "execution_count": 201,
   "metadata": {},
   "outputs": [
    {
     "data": {
      "text/plain": [
       "array(['SEX_1', 'SEX_2', 'EDUCATION_1', 'EDUCATION_2', 'EDUCATION_3',\n",
       "       'EDUCATION_4', 'MARRIAGE_1', 'MARRIAGE_2', 'MARRIAGE_3',\n",
       "       'PAY_1_-1', 'PAY_1_0', 'PAY_1_1', 'PAY_1_2', 'PAY_1_3', 'PAY_1_4',\n",
       "       'PAY_1_5', 'PAY_1_6', 'PAY_1_7', 'PAY_1_8', 'PAY_2_-1', 'PAY_2_0',\n",
       "       'PAY_2_1', 'PAY_2_2', 'PAY_2_3', 'PAY_2_4', 'PAY_2_5', 'PAY_2_6',\n",
       "       'PAY_2_7', 'PAY_2_8', 'PAY_3_-1', 'PAY_3_0', 'PAY_3_1', 'PAY_3_2',\n",
       "       'PAY_3_3', 'PAY_3_4', 'PAY_3_5', 'PAY_3_6', 'PAY_3_7', 'PAY_3_8',\n",
       "       'PAY_4_-1', 'PAY_4_0', 'PAY_4_1', 'PAY_4_2', 'PAY_4_3', 'PAY_4_4',\n",
       "       'PAY_4_5', 'PAY_4_6', 'PAY_4_7', 'PAY_4_8', 'PAY_5_-1', 'PAY_5_0',\n",
       "       'PAY_5_2', 'PAY_5_3', 'PAY_5_4', 'PAY_5_5', 'PAY_5_6', 'PAY_5_7',\n",
       "       'PAY_5_8', 'PAY_6_-1', 'PAY_6_0', 'PAY_6_2', 'PAY_6_3', 'PAY_6_4',\n",
       "       'PAY_6_5', 'PAY_6_6', 'PAY_6_7', 'PAY_6_8'], dtype=object)"
      ]
     },
     "execution_count": 201,
     "metadata": {},
     "output_type": "execute_result"
    }
   ],
   "source": []
  },
  {
   "cell_type": "code",
   "execution_count": null,
   "metadata": {},
   "outputs": [],
   "source": []
  }
 ],
 "metadata": {
  "kernelspec": {
   "display_name": "Python 3",
   "language": "python",
   "name": "python3"
  },
  "language_info": {
   "codemirror_mode": {
    "name": "ipython",
    "version": 3
   },
   "file_extension": ".py",
   "mimetype": "text/x-python",
   "name": "python",
   "nbconvert_exporter": "python",
   "pygments_lexer": "ipython3",
   "version": "3.6.9"
  }
 },
 "nbformat": 4,
 "nbformat_minor": 2
}
